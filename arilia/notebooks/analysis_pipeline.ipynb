{
 "cells": [
  {
   "cell_type": "markdown",
   "metadata": {},
   "source": [
    "# Arilia Analysis Pipeline\n",
    "Load text, extract behaviours, normalize features, classify, and evaluate."
   ]
  },
  {
   "cell_type": "code",
   "execution_count": null,
   "metadata": {},
   "outputs": [],
   "source": [
    "from pathlib import Path\n",
    "from arilia.core.ollama_runner import extract_behaviours\n",
    "from arilia.core.feature_normalizer import normalize_features\n",
    "from arilia.core.rst_engine import classify_with_rough_set\n",
    "from arilia.core.evaluator import evaluate\n",
    "\n",
    "text = Path('../data/apt_samples/sample_report.txt').read_text()\n",
    "data = extract_behaviours(text)\n",
    "features = normalize_features(data)\n",
    "result = classify_with_rough_set(features)\n",
    "print(result)\n",
    "# Mock ground truth label\n",
    "y_true = ['APT10']\n",
    "y_pred = [result['group']]\n",
    "evaluate(y_true, y_pred)"
   ]
  }
 ],
 "metadata": {
  "kernelspec": {
   "display_name": "Python 3",
   "language": "python",
   "name": "python3"
  },
  "language_info": {
   "name": "python",
   "version": "3.10"
  }
 },
 "nbformat": 4,
 "nbformat_minor": 5
}
